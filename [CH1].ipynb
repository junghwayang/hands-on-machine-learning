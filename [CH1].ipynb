{
 "cells": [
  {
   "cell_type": "markdown",
   "metadata": {},
   "source": [
    "# [Chapter 1] 한눈에 보는 머신러닝"
   ]
  },
  {
   "cell_type": "markdown",
   "metadata": {},
   "source": [
    "## 1. 머신러닝이란?\n",
    "- 명시적인 프로그래밍 없이 컴퓨터가 학습하는 능력을 갖추게 하는 연구 분야"
   ]
  },
  {
   "cell_type": "markdown",
   "metadata": {},
   "source": [
    "## 2. 왜 머신러닝을 사용하는가?\n",
    "- 스팸메일을 구분하기 위해 특정 키워드를 사람이 직접 입력하는 게 아니라, 사용자가 스팸으로 지정한 메일에 나타나는 키워드를 자동으로 인식하고 변화에 적응\n",
    "- Data Mining : 대용량의 데이터를 분석해 겉으로는 보이지 않던 패턴 발견"
   ]
  },
  {
   "cell_type": "markdown",
   "metadata": {},
   "source": [
    "## 3. 머신러닝 시스템의 종류\n",
    "- 사람의 감독 하에 훈련하는가? ➜ 지도/비지도/준지도/강화 학습\n",
    "- 실시간으로 점진적인 학습을 하는가? ➜ 온라인/배치 학습\n",
    "- 단순하게 알고 있는 데이터포인트와 새 데이터포인트를 비교하는가, 아니면 훈련 dataset에서 패턴을 발견하여 예측 모델을 만드는가? ➜ 사례기반/모델기반 학습\n",
    "\n",
    "### 1) 지도 학습과 비지도 학습\n",
    "    by 학습하는 동안의 감독 형태나 정보량\n",
    "\n",
    "**지도 학습(Supervised learning)**\n",
    "- 훈련데이터가 레이블됨\n",
    "- 지도학습 작업 : 분류(Classification), 회귀(Regression)\n",
    "- 지도 학습 알고리즘\n",
    "    - k-Nearest Neighbors\n",
    "    - Linear Regression\n",
    "    - Logistic Regression\n",
    "    - SVM(Support Vector Machines)\n",
    "    - Decision Tree\n",
    "    - Random Forests\n",
    "    - Neural networks\n",
    "\n",
    "**비지도 학습(Unsupervised learning)**\n",
    "- 훈련데이터에 레이블이 없음\n",
    "- 비지도 학습 알고리즘\n",
    "    - Clustering\n",
    "        - k-Means\n",
    "        - HCA(Hierarchical Cluster Analysis)\n",
    "        - Expectation Maximization\n",
    "    - Visualization/Dimensionality reduction\n",
    "        - PCA(Principal Component Analysis)\n",
    "        - Kernel PCA\n",
    "        - LLE(Locally-Linear Embedding)\n",
    "        - t-SNE(t-distributed Stochastic Neighbor Embedding)\n",
    "    - Association rule learning\n",
    "        - Apriori\n",
    "        - Eclat\n",
    "\n",
    "**준지도 학습(Semisupervised learning)**\n",
    "- 레이블이 일부만 있음\n",
    "- 지도 학습 + 비지도 학습의 조합\n",
    "\n",
    "**강화 학습(Reinforcement learning)**\n",
    "- 에이전트 : 학습하는 시스템\n",
    "- 환경을 관찰해서 행동 실행 ➜ 결과로 보상 or 벌점\n",
    "- 시간 지나면서 가장 큰 보상 얻기위해 최상의 전략(=정책)을 스스로 학습\n",
    "- 정책 : 주어진 상황에서 에이전트가 어떤 행동을 선택해야 할지 정의\n",
    "\n",
    "### 2) 배치 학습과 온라인 학습\n",
    "    by 입력 데이터의 stream으로부터 점진적으로 학습할 수 있는지\n",
    "\n",
    "**배치 학습(Batch learning)**\n",
    "- 점진적으로 학습 못함, 가용한 데이터 모두 사용해 훈련시켜야함\n",
    "- 먼저 시스템을 훈련시키고 시스템에 적용하면 더 이상 학습없이 실행 = 학습한 것을 단지 적용만 함 = Offline learning\n",
    "\n",
    "**온라인 학습(Online learning)**\n",
    "- 데이터를 순차적으로 한개씩 or 미니배치로 주입하여 훈련시킴\n",
    "- 데이터가 도착하는대로 즉시 학습, 학습 끝나면 버림 ➜ 빠른 변화에 적응가능, 공간절약\n",
    "- 학습률이 높으면 = 데이터에 빠르게 적응 = 예전 데이터 금방 잊어버림\n",
    "\n",
    "### 3) 사례 기반 학습과 모델 기반 학습\n",
    "    by 어떻게 일반화되는가\n",
    "\n",
    "**사례 기반 학습(Instance-based learning)**\n",
    "- 시스템이 사례를 기억함으로써 학습\n",
    "- 유사도(similarity) 측정을 사용해 새로운 데이터에 일반화\n",
    "\n",
    "**모델 기반 학습(Model-based learning)**\n",
    "- 샘플들의 모델을 만들어 예측에 사용"
   ]
  },
  {
   "cell_type": "markdown",
   "metadata": {},
   "source": [
    "## 4. 머신러닝의 주요 도전 과제\n",
    "    나쁜 알고리즘 or 나쁜 데이터\n",
    "    \n",
    "### 1) 충분하지 않은 양의 훈련 데이터\n",
    "- 알고리즘이 잘 작동하려면 데이터가 많아야함\n",
    "\n",
    "### 2) 대표성 없는 훈련 데이터\n",
    "- 일반화가 잘되려면 새로운 사례를 훈련 데이터가 잘 대표해야함\n",
    "\n",
    "### 3) 낮은 품질의 데이터\n",
    "- 훈련 데이터에 에러, 이상치, 잡음이 없어야함\n",
    "\n",
    "### 4) 관련 없는 특성\n",
    "- 특성 선택 : 훈련에 가장 유용한 특성 선택\n",
    "- 특성 추출 : 특성 결합해 더 유용한 특성 만듦\n",
    "\n",
    "### 5) 훈련 데이터 과대적합(Overfitting)\n",
    "- 모델이 훈련 데이터에 너무 잘 맞지만 일반성X\n",
    "- 규제(Regularization)를 통해 overfitting 줄임\n",
    "\n",
    "### 6) 훈련 데이터 과소적합(Underfitting)\n",
    "- 모델이 너무 단순해서 학습못함\n",
    "\n",
    "### 7) 한걸음 물러서서\n",
    "**머신러닝 프로젝트**\n",
    "\n",
    "데이터 분석 ➜ 모델 선택 ➜ 훈련 데이터로 모델 훈련 ➜ 새로운 데이터에 모델 적용해 예측"
   ]
  },
  {
   "cell_type": "markdown",
   "metadata": {},
   "source": [
    "## 5. 테스트와 검증\n",
    "- 훈련 데이터를 훈련세트/ 검증세트/ 테스트세트로 나눔\n",
    "- 일반화 오차 : 새로운 샘플에 대한 오류비율 ➜ 새로운 샘플에 모델이 얼마나 잘 작동할지 알려줌\n",
    "- 교차검증 기법 : 훈련세트를 여러 서브셋으로 나눔 ➜ 서브셋 조합으로 훈련시키고 나머지 부분으로 검증"
   ]
  }
 ],
 "metadata": {
  "kernelspec": {
   "display_name": "Python 3",
   "language": "python",
   "name": "python3"
  },
  "language_info": {
   "codemirror_mode": {
    "name": "ipython",
    "version": 3
   },
   "file_extension": ".py",
   "mimetype": "text/x-python",
   "name": "python",
   "nbconvert_exporter": "python",
   "pygments_lexer": "ipython3",
   "version": "3.6.5"
  }
 },
 "nbformat": 4,
 "nbformat_minor": 2
}
